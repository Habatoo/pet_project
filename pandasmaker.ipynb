{
 "cells": [
  {
   "cell_type": "code",
   "execution_count": 17,
   "metadata": {},
   "outputs": [],
   "source": [
    "import shutil\n",
    "import os\n",
    "import pandas as pd\n",
    "import datetime\n",
    "import pickle\n",
    "from tqdm import tqdm"
   ]
  },
  {
   "cell_type": "code",
   "execution_count": 18,
   "metadata": {},
   "outputs": [],
   "source": [
    "class pandasmaker:\n",
    "    \n",
    "    def __init__(self, dir_):\n",
    "        self.dir_ = dir_\n",
    "        self.num_list = [name for name in os.listdir(self.dir_) if os.path.isfile(os.path.join(self.dir_, name))]\n",
    "        \n",
    "    def make_pandas(self):\n",
    "        pieces = []\n",
    "        columns = ['URL', 'Title', 'Visitors', 'Delta', 'Shift', 'ID']\n",
    "        for date in tqdm(self.num_list):\n",
    "            path = self.dir_ + '%s' % date\n",
    "            frame = pd.read_table(path, header=None, usecols=[0,1,2,3,4,5], skiprows=1, names=columns)\n",
    "            frame ['Date'] = date\n",
    "            pieces.append(frame) # Собрать все данные в один объект DataFrame\n",
    "            names = pd.concat(pieces, ignore_index=True, sort=False)\n",
    "        \n",
    "        names['Locate'] = names['Date'].apply(lambda x : x[:2])\n",
    "        names['Date'] = pd.to_datetime(names['Date'].apply(lambda x : x[3:13] + ' ' + x[14:-4].replace('_', ':')))\n",
    "        names['Source_of_info'] = names.apply(\n",
    "            lambda row: '.'.join([i for i in row['URL'].split('/')[0].split('.') if i != 'www']), axis=1)    \n",
    "        \n",
    "        name_str = (datetime.datetime.now()).strftime('%Y-%m-%d-%H-%M-%S') + '.pic'\n",
    "        names.to_pickle(name_str)\n",
    "        shutil.rmtree(self.dir_, ignore_errors=True)"
   ]
  }
 ],
 "metadata": {
  "kernelspec": {
   "display_name": "Python 3",
   "language": "python",
   "name": "python3"
  },
  "language_info": {
   "codemirror_mode": {
    "name": "ipython",
    "version": 3
   },
   "file_extension": ".py",
   "mimetype": "text/x-python",
   "name": "python",
   "nbconvert_exporter": "python",
   "pygments_lexer": "ipython3",
   "version": "3.6.5"
  }
 },
 "nbformat": 4,
 "nbformat_minor": 2
}
