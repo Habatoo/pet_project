{
 "cells": [
  {
   "cell_type": "code",
   "execution_count": 1,
   "metadata": {},
   "outputs": [],
   "source": [
    "import pandas as pd\n",
    "import pickle\n",
    "import os, os.path\n",
    "\n",
    "from urllib.request import urlopen\n",
    "from bs4 import BeautifulSoup\n",
    "from urllib import request\n",
    "from urllib.parse import quote\n",
    "\n",
    "from tqdm import tqdm"
   ]
  },
  {
   "cell_type": "code",
   "execution_count": 2,
   "metadata": {},
   "outputs": [],
   "source": [
    "class Theme_loader:\n",
    "    def __init__(self, them, data):\n",
    "        self.them = them\n",
    "        self.data = data\n",
    "        \n",
    "    def num(self):\n",
    "        them_url = self.data[self.data['Title'].str.contains(self.them, case=False)]['URL'].unique()\n",
    "        return len(them_url)\n",
    "\n",
    "    def data_articles(self):\n",
    "        them_url = self.data[self.data['Title'].str.contains(self.them, case=False)]['URL'].unique()\n",
    "        them_articles = []\n",
    "        for i in tqdm(range(len(them_url))):\n",
    "            url = 'http://{0}'.format(quote(them_url[i]))\n",
    "            try:\n",
    "                html = urlopen(url)\n",
    "                bsObj = BeautifulSoup(html.read(), \"lxml\")\n",
    "                # print(bsObj)\n",
    "                titles = bsObj.find_all('p')\n",
    "                #print(titles)\n",
    "                titles = [title.text.replace(\n",
    "                    '\\xa0', '').replace(\n",
    "                    '\\u200b', '').replace(\n",
    "                    '\\n', '').replace(\n",
    "                    '\\r\\n\\n', '').replace(\n",
    "                    '\\n\\n\\n', '').strip() for title in titles]   \n",
    "                them_articles.append(titles)\n",
    "            except:\n",
    "                pass\n",
    "            \n",
    "        them_articles_str = self.them + '.pcl'\n",
    "        F = open(them_articles_str, 'wb')\n",
    "        pickle.dump(them_articles, F) # Модуль pickle запишет в файл любой объект\n",
    "        F.close()"
   ]
  },
  {
   "cell_type": "code",
   "execution_count": 3,
   "metadata": {},
   "outputs": [
    {
     "name": "stdout",
     "output_type": "stream",
     "text": [
      "27\n"
     ]
    },
    {
     "name": "stderr",
     "output_type": "stream",
     "text": [
      "100%|██████████| 27/27 [01:03<00:00,  2.32s/it]\n"
     ]
    },
    {
     "name": "stdout",
     "output_type": "stream",
     "text": [
      "Wall time: 1min 6s\n"
     ]
    }
   ],
   "source": [
    "%%time\n",
    "# them = input('Enter a them in single word str format')\n",
    "# names = pickle.load(open([name for name in os.listdir('./') if name.endswith('.pic')][0], 'rb'))\n",
    "if __name__ == '__main__':\n",
    "    them = 'сбербанк'\n",
    "    names = pickle.load(open([name for name in os.listdir('./') if name.endswith('.pic')][0], 'rb'))\n",
    "    theme = Theme_loader(them, names)\n",
    "    print(theme.num())\n",
    "    theme.data_articles()"
   ]
  },
  {
   "cell_type": "code",
   "execution_count": null,
   "metadata": {},
   "outputs": [],
   "source": []
  }
 ],
 "metadata": {
  "kernelspec": {
   "display_name": "Python 3",
   "language": "python",
   "name": "python3"
  },
  "language_info": {
   "codemirror_mode": {
    "name": "ipython",
    "version": 3
   },
   "file_extension": ".py",
   "mimetype": "text/x-python",
   "name": "python",
   "nbconvert_exporter": "python",
   "pygments_lexer": "ipython3",
   "version": "3.6.5"
  }
 },
 "nbformat": 4,
 "nbformat_minor": 2
}
