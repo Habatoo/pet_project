{
 "cells": [
  {
   "cell_type": "code",
   "execution_count": 1,
   "metadata": {},
   "outputs": [],
   "source": [
    "import os\n",
    "import datetime\n",
    "import urllib.request\n",
    "import zipfile\n",
    "import warnings\n",
    "warnings.filterwarnings('ignore')\n",
    "\n",
    "from urllib.request import urlopen\n",
    "from bs4 import BeautifulSoup\n",
    "from urllib import request\n",
    "from urllib.parse import quote\n",
    "\n",
    "import pickle\n",
    "from tqdm import tqdm\n",
    "import pandas as pd"
   ]
  },
  {
   "cell_type": "code",
   "execution_count": 2,
   "metadata": {},
   "outputs": [],
   "source": [
    "class Loader:\n",
    "    \n",
    "    def __init__(self, date_start, date_end, period, region='ru'): \n",
    "        # check start and end date, start date must be less than end day, end date <= today\n",
    "        if date_end > (datetime.datetime.date(datetime.datetime.now()) - datetime.timedelta(days=2)).strftime('%Y-%m-%d'):\n",
    "            date_end = (datetime.datetime.date(datetime.datetime.now()) - datetime.timedelta(days=2)).strftime('%Y-%m-%d')\n",
    "        if date_start >= date_end: date_end = date_start\n",
    "             \n",
    "        self.date_start = self.formate(date_start)\n",
    "        self.date_end = self.formate(date_end) \n",
    "        self.period = period + '/' \n",
    "        self.region = region + '-'\n",
    "        #self.destinationPath = 'C:\\Python\\sber\\pet_project'\n",
    "        self.destinationPath = './'\n",
    "    \n",
    "    def formate(self, date):\n",
    "        self.year, self.month, self.day = map(int, date.split('-'))\n",
    "        return datetime.date(self.year, self.month, self.day) \n",
    "    \n",
    "    def make_url(self):\n",
    "        diff = int((self.date_end - self.date_start).days)\n",
    "        for days in tqdm(range(diff)):\n",
    "            today_str = (self.date_end - datetime.timedelta(days=days)).strftime('%Y-%m-%d')\n",
    "            # read data archive https://mediametrics.ru/data/archive/\n",
    "            file_name = self.region + today_str + '.zip'\n",
    "            url = 'http://mediametrics.ru/data/archive/' + self.period + file_name \n",
    "            try: # Download the file from `url` and save it locally under `file_name`:\n",
    "                urllib.request.urlretrieve(url, file_name)\n",
    "                sourceZip = zipfile.ZipFile(file_name, 'r')\n",
    "                # print(url, days)\n",
    "            except (ValueError, TimeoutError):\n",
    "                pass\n",
    "            for name in sourceZip.namelist():\n",
    "                sourceZip.extract(name, self.destinationPath)\n",
    "            sourceZip.close()\n",
    "            os.remove(file_name) # remove download files"
   ]
  },
  {
   "cell_type": "code",
   "execution_count": 3,
   "metadata": {
    "scrolled": true
   },
   "outputs": [
    {
     "name": "stdout",
     "output_type": "stream",
     "text": [
      "Period - day or hour or month or online or week :\n"
     ]
    },
    {
     "name": "stderr",
     "output_type": "stream",
     "text": [
      "100%|██████████| 1/1 [00:33<00:00, 33.49s/it]\n"
     ]
    },
    {
     "name": "stdout",
     "output_type": "stream",
     "text": [
      "Wall time: 35 s\n"
     ]
    }
   ],
   "source": [
    "%%time\n",
    "# date_start = input('Enter a start date in YYYY-MM-DD format')\n",
    "# date_end = input('Enter a end date in YYYY-MM-DD format')\n",
    "if __name__ == '__main__':\n",
    "    period = input('Period - day or hour or month or online or week :')\n",
    "    if period == '':\n",
    "        period = 'week'\n",
    "    #region = input('region')\n",
    "    url = 'http://mediametrics.ru/data/archive/' + period\n",
    "    html = urlopen(url)\n",
    "    bsObj = BeautifulSoup(html.read(), \"lxml\")\n",
    "    titles = bsObj.find_all('pre')\n",
    "    m = str(titles).split('</a>')\n",
    "    date = [m[i][-14:-4] for i in range(len(m)) if m[i].endswith('.zip')][:-1] # find start date and end date\n",
    "    \n",
    "    date_start = date[-2]\n",
    "    date_end = date[-1]\n",
    "    date = Loader(date_start, date_end, period)\n",
    "    date.make_url()"
   ]
  },
  {
   "cell_type": "code",
   "execution_count": null,
   "metadata": {},
   "outputs": [],
   "source": []
  }
 ],
 "metadata": {
  "kernelspec": {
   "display_name": "Python 3",
   "language": "python",
   "name": "python3"
  },
  "language_info": {
   "codemirror_mode": {
    "name": "ipython",
    "version": 3
   },
   "file_extension": ".py",
   "mimetype": "text/x-python",
   "name": "python",
   "nbconvert_exporter": "python",
   "pygments_lexer": "ipython3",
   "version": "3.6.5"
  }
 },
 "nbformat": 4,
 "nbformat_minor": 2
}
