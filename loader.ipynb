{
 "cells": [
  {
   "cell_type": "code",
   "execution_count": 1,
   "metadata": {},
   "outputs": [],
   "source": [
    "import os\n",
    "import datetime\n",
    "import urllib.request\n",
    "import zipfile\n",
    "import warnings\n",
    "warnings.filterwarnings('ignore')\n",
    "\n",
    "import pickle\n",
    "from tqdm import tqdm\n",
    "import pandas as pd"
   ]
  },
  {
   "cell_type": "code",
   "execution_count": 12,
   "metadata": {},
   "outputs": [],
   "source": [
    "class loader:\n",
    "    \n",
    "    def __init__(self, date_start='2018-10-03',\n",
    "                 date_end=(\n",
    "                     datetime.datetime.date(datetime.datetime.now()) - datetime.timedelta(days=2)).strftime('%Y-%m-%d'),\n",
    "                 period='week', region='ru'):              \n",
    "        # check start and end date, start date must be less than 2018-09-02, end date <= today\n",
    "        if date_start < '2018-10-03': date_start = '2018-10-03'\n",
    "        if date_end > (datetime.datetime.date(datetime.datetime.now()) - datetime.timedelta(days=2)).strftime('%Y-%m-%d'):\n",
    "            date_end = (datetime.datetime.date(datetime.datetime.now()) - datetime.timedelta(days=2)).strftime('%Y-%m-%d')\n",
    "        if date_start >= date_end: date_end = date_start\n",
    "             \n",
    "        self.date_start = self.formate(date_start)\n",
    "        self.date_end = self.formate(date_end) \n",
    "        self.period = period + '/' \n",
    "        self.region = region + '-'\n",
    "        #self.destinationPath = 'C:\\Python\\sber\\pet_project'\n",
    "        self.destinationPath = './'\n",
    "    \n",
    "    def formate(self, date):\n",
    "        self.year, self.month, self.day = map(int, date.split('-'))\n",
    "        return datetime.date(self.year, self.month, self.day) \n",
    "    \n",
    "    def make_url(self):\n",
    "        diff = int((self.date_end - self.date_start).days)\n",
    "        for days in range(diff):\n",
    "            today_str = (self.date_end - datetime.timedelta(days=days)).strftime('%Y-%m-%d')\n",
    "            # read data archive https://mediametrics.ru/data/archive/online/\n",
    "            file_name = self.region + today_str + '.zip'\n",
    "            url = 'http://mediametrics.ru/data/archive/' + self.period + file_name \n",
    "            #print(url)\n",
    "            try: # Download the file from `url` and save it locally under `file_name`:\n",
    "                urllib.request.urlretrieve(url, file_name)\n",
    "                sourceZip = zipfile.ZipFile(file_name, 'r')\n",
    "                print(url, days)\n",
    "            except (ValueError, TimeoutError):\n",
    "                pass\n",
    "            for name in sourceZip.namelist():\n",
    "                sourceZip.extract(name, self.destinationPath)\n",
    "            sourceZip.close()\n",
    "            os.remove(file_name) # remove download files"
   ]
  },
  {
   "cell_type": "code",
   "execution_count": 13,
   "metadata": {
    "scrolled": true
   },
   "outputs": [
    {
     "name": "stdout",
     "output_type": "stream",
     "text": [
      "http://mediametrics.ru/data/archive/week/ru-2018-10-12.zip 0\n",
      "http://mediametrics.ru/data/archive/week/ru-2018-10-11.zip 1\n",
      "http://mediametrics.ru/data/archive/week/ru-2018-10-10.zip 2\n",
      "http://mediametrics.ru/data/archive/week/ru-2018-10-09.zip 3\n",
      "http://mediametrics.ru/data/archive/week/ru-2018-10-08.zip 4\n",
      "http://mediametrics.ru/data/archive/week/ru-2018-10-07.zip 5\n",
      "http://mediametrics.ru/data/archive/week/ru-2018-10-06.zip 6\n",
      "http://mediametrics.ru/data/archive/week/ru-2018-10-05.zip 7\n",
      "http://mediametrics.ru/data/archive/week/ru-2018-10-04.zip 8\n",
      "Wall time: 1min 11s\n"
     ]
    }
   ],
   "source": [
    "%%time\n",
    "# date_start = input('Enter a start date in YYYY-MM-DD format')\n",
    "# date_end = input('Enter a end date in YYYY-MM-DD format')\n",
    "if __name__ == '__main__':\n",
    "    date_start = '2018-10-03'\n",
    "    date_end = '2018-10-12'\n",
    "    date = loader(date_start, date_end)\n",
    "    date.make_url()"
   ]
  },
  {
   "cell_type": "code",
   "execution_count": null,
   "metadata": {},
   "outputs": [],
   "source": []
  }
 ],
 "metadata": {
  "kernelspec": {
   "display_name": "Python 3",
   "language": "python",
   "name": "python3"
  },
  "language_info": {
   "codemirror_mode": {
    "name": "ipython",
    "version": 3
   },
   "file_extension": ".py",
   "mimetype": "text/x-python",
   "name": "python",
   "nbconvert_exporter": "python",
   "pygments_lexer": "ipython3",
   "version": "3.6.5"
  }
 },
 "nbformat": 4,
 "nbformat_minor": 2
}
