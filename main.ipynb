{
 "cells": [
  {
   "cell_type": "markdown",
   "metadata": {},
   "source": [
    "На страницах http://mediametrics.ru/data/archive/ размещены ежедневные архивы со \"слепками\" рейтинга новостей в течение дня.\n",
    "\n",
    "На первом уровне идет разделение по тому, показатели за какой период находятся в слепках:\n",
    "\n",
    "day - посещаемость за 24 часа;\n",
    "\n",
    "hour - посещаемость за 1 час;\n",
    "\n",
    "online - посещаемость за 10 минут.\n",
    "\n",
    "Слепки с разными показателями делаются с разной частотой: с суточными показателями - раз в 5 минут, с часовыми - раз в минуту, с 10-минутными - раз в 10 секунд, поэтому самые большие архивы в каталоге online, в каждом архиве 8640 файлов-слепков.\n",
    "\n",
    "Архивы создаются в течение нескольких минут после полуночи по московскому времени.\n",
    "\n",
    "Внутри каталогов размещены ежедневные архивы по трем странам: России, Украине и Беларуси.\n",
    "\n",
    "Например, рассмотрим архив http://mediametrics.ru/data/archive/day/ru-2014-04-01.zip\n",
    "внутри него списки новостей с суточными показателями (day), по России (ru) за 1 апреля (2014-04-01).\n",
    "\n",
    "В данном архиве 288 файлов (раз в 5 минут за день):\n",
    " day/ru-2014-04-01_00:00:00.tsv\n",
    " day/ru-2014-04-01_00:05:00.tsv\n",
    " day/ru-2014-04-01_00:10:00.tsv\n",
    "и так далее. Каждый файл содержит список новостей на тот момент, который обозначен в имени файла (время московское), в списки записывается не более 500 новостей.\n",
    "\n",
    "TSV - это текстовый формат данных, в котором колонки данных разделены символом табуляции.\n",
    "\n",
    "В первой строчке находится обозначение колонок и служебные данные:\n",
    "\n",
    "**URL  Title  Visitors  Delta  Shift  ID  68201  1396296000**\n",
    "\n",
    "- URL - адрес страницы новости;\n",
    "- Title - заголовок новости;\n",
    "- Visitors - количество посетителей за выбранный период;\n",
    "- Delta - разница в количестве посетителей с момента предыдущей генерации рейтинга (это частота отличается от частоты слепков за час и сутки, часовой и суточный рейтинг создаются раз в 10 и 30 секунд)\n",
    "- Shift - условный показатель движения новости по позициям рейтинга вверх (меньше нуля) или вниз (больше нуля);\n",
    "- ID - внутренний идентификатор новости, целое число (один идентификатор может быть присвоен разным новостям, появившихся с разницей более 3 месяцев);\n",
    "- 68201 - общее количество новостей в списке, но в слепок попадают только первые 500;\n",
    "- 1396296000 - время обновления рейтинга в виде так называемого unix timestamp (количество секунд с 1 января 1970 года)"
   ]
  },
  {
   "cell_type": "code",
   "execution_count": 1,
   "metadata": {},
   "outputs": [
    {
     "data": {
      "text/html": [
       "\n",
       "<style type='text/css'>\n",
       ".hll { background-color: #ffffcc }\n",
       ".c { color: #408080; font-style: italic } /* Comment */\n",
       ".err { border: 1px solid #FF0000 } /* Error */\n",
       ".k { color: #008000; font-weight: bold } /* Keyword */\n",
       ".o { color: #666666 } /* Operator */\n",
       ".ch { color: #408080; font-style: italic } /* Comment.Hashbang */\n",
       ".cm { color: #408080; font-style: italic } /* Comment.Multiline */\n",
       ".cp { color: #BC7A00 } /* Comment.Preproc */\n",
       ".cpf { color: #408080; font-style: italic } /* Comment.PreprocFile */\n",
       ".c1 { color: #408080; font-style: italic } /* Comment.Single */\n",
       ".cs { color: #408080; font-style: italic } /* Comment.Special */\n",
       ".gd { color: #A00000 } /* Generic.Deleted */\n",
       ".ge { font-style: italic } /* Generic.Emph */\n",
       ".gr { color: #FF0000 } /* Generic.Error */\n",
       ".gh { color: #000080; font-weight: bold } /* Generic.Heading */\n",
       ".gi { color: #00A000 } /* Generic.Inserted */\n",
       ".go { color: #888888 } /* Generic.Output */\n",
       ".gp { color: #000080; font-weight: bold } /* Generic.Prompt */\n",
       ".gs { font-weight: bold } /* Generic.Strong */\n",
       ".gu { color: #800080; font-weight: bold } /* Generic.Subheading */\n",
       ".gt { color: #0044DD } /* Generic.Traceback */\n",
       ".kc { color: #008000; font-weight: bold } /* Keyword.Constant */\n",
       ".kd { color: #008000; font-weight: bold } /* Keyword.Declaration */\n",
       ".kn { color: #008000; font-weight: bold } /* Keyword.Namespace */\n",
       ".kp { color: #008000 } /* Keyword.Pseudo */\n",
       ".kr { color: #008000; font-weight: bold } /* Keyword.Reserved */\n",
       ".kt { color: #B00040 } /* Keyword.Type */\n",
       ".m { color: #666666 } /* Literal.Number */\n",
       ".s { color: #BA2121 } /* Literal.String */\n",
       ".na { color: #7D9029 } /* Name.Attribute */\n",
       ".nb { color: #008000 } /* Name.Builtin */\n",
       ".nc { color: #0000FF; font-weight: bold } /* Name.Class */\n",
       ".no { color: #880000 } /* Name.Constant */\n",
       ".nd { color: #AA22FF } /* Name.Decorator */\n",
       ".ni { color: #999999; font-weight: bold } /* Name.Entity */\n",
       ".ne { color: #D2413A; font-weight: bold } /* Name.Exception */\n",
       ".nf { color: #0000FF } /* Name.Function */\n",
       ".nl { color: #A0A000 } /* Name.Label */\n",
       ".nn { color: #0000FF; font-weight: bold } /* Name.Namespace */\n",
       ".nt { color: #008000; font-weight: bold } /* Name.Tag */\n",
       ".nv { color: #19177C } /* Name.Variable */\n",
       ".ow { color: #AA22FF; font-weight: bold } /* Operator.Word */\n",
       ".w { color: #bbbbbb } /* Text.Whitespace */\n",
       ".mb { color: #666666 } /* Literal.Number.Bin */\n",
       ".mf { color: #666666 } /* Literal.Number.Float */\n",
       ".mh { color: #666666 } /* Literal.Number.Hex */\n",
       ".mi { color: #666666 } /* Literal.Number.Integer */\n",
       ".mo { color: #666666 } /* Literal.Number.Oct */\n",
       ".sa { color: #BA2121 } /* Literal.String.Affix */\n",
       ".sb { color: #BA2121 } /* Literal.String.Backtick */\n",
       ".sc { color: #BA2121 } /* Literal.String.Char */\n",
       ".dl { color: #BA2121 } /* Literal.String.Delimiter */\n",
       ".sd { color: #BA2121; font-style: italic } /* Literal.String.Doc */\n",
       ".s2 { color: #BA2121 } /* Literal.String.Double */\n",
       ".se { color: #BB6622; font-weight: bold } /* Literal.String.Escape */\n",
       ".sh { color: #BA2121 } /* Literal.String.Heredoc */\n",
       ".si { color: #BB6688; font-weight: bold } /* Literal.String.Interpol */\n",
       ".sx { color: #008000 } /* Literal.String.Other */\n",
       ".sr { color: #BB6688 } /* Literal.String.Regex */\n",
       ".s1 { color: #BA2121 } /* Literal.String.Single */\n",
       ".ss { color: #19177C } /* Literal.String.Symbol */\n",
       ".bp { color: #008000 } /* Name.Builtin.Pseudo */\n",
       ".fm { color: #0000FF } /* Name.Function.Magic */\n",
       ".vc { color: #19177C } /* Name.Variable.Class */\n",
       ".vg { color: #19177C } /* Name.Variable.Global */\n",
       ".vi { color: #19177C } /* Name.Variable.Instance */\n",
       ".vm { color: #19177C } /* Name.Variable.Magic */\n",
       ".il { color: #666666 } /* Literal.Number.Integer.Long */\n",
       "</style>\n"
      ],
      "text/plain": [
       "<IPython.core.display.HTML object>"
      ]
     },
     "metadata": {},
     "output_type": "display_data"
    },
    {
     "name": "stdout",
     "output_type": "stream",
     "text": [
      "importing Jupyter notebook from Loader.ipynb\n",
      "Wall time: 0 ns\n"
     ]
    }
   ],
   "source": [
    "import sys #access to system parameters https://docs.python.org/3/library/sys.html\n",
    "import pandas as pd \n",
    "import matplotlib #collection of functions for scientific and publication-ready visualization\n",
    "import numpy as np #foundational package for scientific computing\n",
    "import scipy as sp #collection of functions for scientific computing and advance mathematics\n",
    "import os, os.path\n",
    "import IPython\n",
    "from IPython import display #pretty printing of dataframes in Jupyter notebook\n",
    "import re\n",
    "import warnings\n",
    "warnings.filterwarnings('ignore')\n",
    "\n",
    "import pickle\n",
    "import zipfile\n",
    "from tqdm import tqdm\n",
    "\n",
    "from urllib.request import urlopen\n",
    "from bs4 import BeautifulSoup\n",
    "\n",
    "\n",
    "import jupyter_loader\n",
    "import Loader\n",
    "import theme_loader # загружаем загрузчик тем для поиска"
   ]
  },
  {
   "cell_type": "code",
   "execution_count": 3,
   "metadata": {},
   "outputs": [
    {
     "name": "stdout",
     "output_type": "stream",
     "text": [
      "Period - day or hour or month or online or week : \n"
     ]
    }
   ],
   "source": [
    "period = input('Period - day or hour or month or online or week : ') # выбираем период по умолчанию week\n",
    "if period == '':\n",
    "        period = 'week'\n",
    "url = 'http://mediametrics.ru/data/archive/' +  period # загружаем страницу с выбранным перечнем архивов\n",
    "html = urlopen(url)\n",
    "bsObj = BeautifulSoup(html.read(), \"lxml\")\n",
    "titles = bsObj.find_all('pre')\n",
    "m = str(titles).split('</a>')\n",
    "d = [m[i][-14:-4] for i in range(len(m)) if m[i].endswith('.zip')][:-1]"
   ]
  },
  {
   "cell_type": "code",
   "execution_count": 4,
   "metadata": {},
   "outputs": [
    {
     "name": "stdout",
     "output_type": "stream",
     "text": [
      "Enter start and end date of period in YYYY-MM-DD format\n",
      "Or use default start and end date - 2018-10-03 2019-01-20\n",
      "Enter a start date in YYYY-MM-DD format :2018-10-03\n",
      "Enter a end date in YYYY-MM-DD format :2018-10-05\n"
     ]
    }
   ],
   "source": [
    "# вводим период времени для загрузки\n",
    "print('Enter start and end date of period in YYYY-MM-DD format')\n",
    "print('Or use default start and end date -', d[0], d[-1])\n",
    "date_start = input('Enter a start date in YYYY-MM-DD format :')\n",
    "date_end = input('Enter a end date in YYYY-MM-DD format :')"
   ]
  },
  {
   "cell_type": "code",
   "execution_count": 5,
   "metadata": {},
   "outputs": [
    {
     "name": "stderr",
     "output_type": "stream",
     "text": [
      "100%|██████████| 2/2 [01:12<00:00, 24.28s/it]\n"
     ]
    }
   ],
   "source": [
    "if not(date_start or date_end):\n",
    "    date_start = d[0]\n",
    "    date_end = d[-1]\n",
    "\n",
    "date = Loader.Loader(date_start, date_end, period)\n",
    "date.make_url()"
   ]
  },
  {
   "cell_type": "code",
   "execution_count": 6,
   "metadata": {},
   "outputs": [
    {
     "name": "stdout",
     "output_type": "stream",
     "text": [
      "importing Jupyter notebook from pandasmaker.ipynb\n"
     ]
    },
    {
     "name": "stderr",
     "output_type": "stream",
     "text": [
      "100%|██████████| 168/168 [00:16<00:00,  6.05it/s]\n"
     ]
    }
   ],
   "source": [
    "import pandasmaker\n",
    "#from imp import reload\n",
    "#reload(pandasmaker)\n",
    "\n",
    "pandas_file = pandasmaker.pandasmaker('./' + date.period)\n",
    "pandas_file.make_pandas()"
   ]
  },
  {
   "cell_type": "code",
   "execution_count": 8,
   "metadata": {},
   "outputs": [
    {
     "data": {
      "text/html": [
       "<div>\n",
       "<style scoped>\n",
       "    .dataframe tbody tr th:only-of-type {\n",
       "        vertical-align: middle;\n",
       "    }\n",
       "\n",
       "    .dataframe tbody tr th {\n",
       "        vertical-align: top;\n",
       "    }\n",
       "\n",
       "    .dataframe thead th {\n",
       "        text-align: right;\n",
       "    }\n",
       "</style>\n",
       "<table border=\"1\" class=\"dataframe\">\n",
       "  <thead>\n",
       "    <tr style=\"text-align: right;\">\n",
       "      <th></th>\n",
       "      <th>URL</th>\n",
       "      <th>Title</th>\n",
       "      <th>Visitors</th>\n",
       "      <th>Delta</th>\n",
       "      <th>Shift</th>\n",
       "      <th>ID</th>\n",
       "      <th>Date</th>\n",
       "      <th>Locate</th>\n",
       "      <th>Source_of_info</th>\n",
       "    </tr>\n",
       "  </thead>\n",
       "  <tbody>\n",
       "    <tr>\n",
       "      <th>0</th>\n",
       "      <td>vesti.ru/doc.html?id=3066395</td>\n",
       "      <td>В России изменяются правила доставки пациентов...</td>\n",
       "      <td>16069</td>\n",
       "      <td>1</td>\n",
       "      <td>0</td>\n",
       "      <td>22557879</td>\n",
       "      <td>2018-10-04</td>\n",
       "      <td>ru</td>\n",
       "      <td>vesti.ru</td>\n",
       "    </tr>\n",
       "    <tr>\n",
       "      <th>1</th>\n",
       "      <td>www.mk.ru/science/2018/10/03/ameba-ubila-chelo...</td>\n",
       "      <td>Амеба убила человека, съев его мозг изнутри</td>\n",
       "      <td>13867</td>\n",
       "      <td>15</td>\n",
       "      <td>0</td>\n",
       "      <td>115746545</td>\n",
       "      <td>2018-10-04</td>\n",
       "      <td>ru</td>\n",
       "      <td>mk.ru</td>\n",
       "    </tr>\n",
       "    <tr>\n",
       "      <th>2</th>\n",
       "      <td>novayagazeta.ru/articles/2018/09/29/77993-sud-...</td>\n",
       "      <td>Суд патриархата. Правосудие Тывы максимально л...</td>\n",
       "      <td>12315</td>\n",
       "      <td>0</td>\n",
       "      <td>0</td>\n",
       "      <td>49053795</td>\n",
       "      <td>2018-10-04</td>\n",
       "      <td>ru</td>\n",
       "      <td>novayagazeta.ru</td>\n",
       "    </tr>\n",
       "    <tr>\n",
       "      <th>3</th>\n",
       "      <td>www.mk.ru/politics/2018/10/01/v-rossii-gryadet...</td>\n",
       "      <td>В России грядет большая политическая буря</td>\n",
       "      <td>12298</td>\n",
       "      <td>1</td>\n",
       "      <td>0</td>\n",
       "      <td>114456809</td>\n",
       "      <td>2018-10-04</td>\n",
       "      <td>ru</td>\n",
       "      <td>mk.ru</td>\n",
       "    </tr>\n",
       "    <tr>\n",
       "      <th>4</th>\n",
       "      <td>www.mk.ru/moscow/2018/10/01/v-moskve-dvoe-poli...</td>\n",
       "      <td>В Москве двое полицейских расстреляли прохожег...</td>\n",
       "      <td>11053</td>\n",
       "      <td>0</td>\n",
       "      <td>0</td>\n",
       "      <td>113933922</td>\n",
       "      <td>2018-10-04</td>\n",
       "      <td>ru</td>\n",
       "      <td>mk.ru</td>\n",
       "    </tr>\n",
       "  </tbody>\n",
       "</table>\n",
       "</div>"
      ],
      "text/plain": [
       "                                                 URL  \\\n",
       "0                       vesti.ru/doc.html?id=3066395   \n",
       "1  www.mk.ru/science/2018/10/03/ameba-ubila-chelo...   \n",
       "2  novayagazeta.ru/articles/2018/09/29/77993-sud-...   \n",
       "3  www.mk.ru/politics/2018/10/01/v-rossii-gryadet...   \n",
       "4  www.mk.ru/moscow/2018/10/01/v-moskve-dvoe-poli...   \n",
       "\n",
       "                                               Title  Visitors  Delta  Shift  \\\n",
       "0  В России изменяются правила доставки пациентов...     16069      1      0   \n",
       "1        Амеба убила человека, съев его мозг изнутри     13867     15      0   \n",
       "2  Суд патриархата. Правосудие Тывы максимально л...     12315      0      0   \n",
       "3          В России грядет большая политическая буря     12298      1      0   \n",
       "4  В Москве двое полицейских расстреляли прохожег...     11053      0      0   \n",
       "\n",
       "          ID       Date Locate   Source_of_info  \n",
       "0   22557879 2018-10-04     ru         vesti.ru  \n",
       "1  115746545 2018-10-04     ru            mk.ru  \n",
       "2   49053795 2018-10-04     ru  novayagazeta.ru  \n",
       "3  114456809 2018-10-04     ru            mk.ru  \n",
       "4  113933922 2018-10-04     ru            mk.ru  "
      ]
     },
     "execution_count": 8,
     "metadata": {},
     "output_type": "execute_result"
    }
   ],
   "source": [
    "# сохраняем dataframe в файл\n",
    "names = pickle.load(open([name for name in os.listdir('./') if name.endswith('.pic')][0], 'rb'))\n",
    "names.head()"
   ]
  },
  {
   "cell_type": "code",
   "execution_count": 9,
   "metadata": {},
   "outputs": [
    {
     "name": "stdout",
     "output_type": "stream",
     "text": [
      "<class 'pandas.core.frame.DataFrame'>\n",
      "RangeIndex: 336000 entries, 0 to 335999\n",
      "Data columns (total 9 columns):\n",
      "URL               336000 non-null object\n",
      "Title             336000 non-null object\n",
      "Visitors          336000 non-null int64\n",
      "Delta             336000 non-null int64\n",
      "Shift             336000 non-null int64\n",
      "ID                336000 non-null int64\n",
      "Date              336000 non-null datetime64[ns]\n",
      "Locate            336000 non-null object\n",
      "Source_of_info    336000 non-null object\n",
      "dtypes: datetime64[ns](1), int64(4), object(4)\n",
      "memory usage: 23.1+ MB\n"
     ]
    }
   ],
   "source": [
    "names.info()"
   ]
  },
  {
   "cell_type": "code",
   "execution_count": 11,
   "metadata": {},
   "outputs": [
    {
     "data": {
      "text/plain": [
       "27"
      ]
     },
     "execution_count": 11,
     "metadata": {},
     "output_type": "execute_result"
    }
   ],
   "source": [
    "theme = theme_loader.Theme_loader('сбербанк', names) # ищем среди заголовков ключевое слово Сбербанк\n",
    "theme.num() # количество статей с ключевым словом"
   ]
  },
  {
   "cell_type": "code",
   "execution_count": 12,
   "metadata": {},
   "outputs": [
    {
     "name": "stderr",
     "output_type": "stream",
     "text": [
      "100%|██████████| 27/27 [02:33<00:00,  5.58s/it]\n"
     ]
    }
   ],
   "source": [
    "theme.data_articles() # загружаем статьи в список, каждое препдложение отдельной строкой"
   ]
  },
  {
   "cell_type": "code",
   "execution_count": 15,
   "metadata": {},
   "outputs": [
    {
     "data": {
      "text/plain": [
       "['Если вы хотите поделиться интересным событием,                    воспользуйтесь данной формой',\n",
       " 'На этот раз заседание назначено на 12 октября.',\n",
       " 'В середине августа в Нижнекамске прошло первое заседание, на котором рассмотрели дело Сергея Коновалова, подозреваемого в краже более 15 млн рублей у ПАО «Сбербанк». Следствие считает, что подсудимый открывал валютный счет в банке, зная об ошибке мобильного приложения, которое при закрытии возвращало на карту двойную сумму денег.',\n",
       " 'В результате ущерб от его деяний составил 15,4 млн рублей, которые принадлежали кредитной организации. Коновалов во время суда объяснил, что деньги банк переводил ему в виде займа по овердрафту. При этом мужчина не согласен отдавать всю сумму, так как с его счетов средства и списывались.',\n",
       " 'Заседания несколько раз переносили по различным причинам. На этот раз прения сторон назначены на 12 октября.',\n",
       " 'Если вы хотите поделиться интересным событием,    воспользуйтесь данной формой',\n",
       " 'Президент Татарстана Рустам Минниханов обсудит данный вопрос с послом азиатского государства.',\n",
       " 'В Казани 29 сентября состоится встреча президента Татарстана Рустама Минниханова с Чрезвычайным и Полномочным Послом Республики Корея в России У Юн Гыном. Стороны обсудят ряд вопросов экономического взаимодействия. Кроме того, во время встречи рассмотрят вопрос открытия прямых рейсов из Казани в Южную Корею, заявила в ходе брифинга официальный представитель казанского Кремля Лилия Галимова.',\n",
       " 'Отметим, что в 2017 году торговый оборот между Татарстаном и Южной Кореей превысил 56 млн долларов.',\n",
       " 'Если вы хотите поделиться интересным событием,    воспользуйтесь данной формой']"
      ]
     },
     "execution_count": 15,
     "metadata": {},
     "output_type": "execute_result"
    }
   ],
   "source": [
    "data = pickle.load(open([name for name in os.listdir('./') if name.endswith('.pcl')][0], 'rb'))\n",
    "data[0] # первая статья"
   ]
  },
  {
   "cell_type": "code",
   "execution_count": null,
   "metadata": {},
   "outputs": [],
   "source": []
  }
 ],
 "metadata": {
  "kernelspec": {
   "display_name": "Python 3",
   "language": "python",
   "name": "python3"
  },
  "language_info": {
   "codemirror_mode": {
    "name": "ipython",
    "version": 3
   },
   "file_extension": ".py",
   "mimetype": "text/x-python",
   "name": "python",
   "nbconvert_exporter": "python",
   "pygments_lexer": "ipython3",
   "version": "3.6.5"
  }
 },
 "nbformat": 4,
 "nbformat_minor": 2
}
